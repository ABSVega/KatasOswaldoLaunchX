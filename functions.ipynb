{
 "cells": [
  {
   "cell_type": "markdown",
   "metadata": {},
   "source": [
    "# Uso de funciones en Python"
   ]
  },
  {
   "cell_type": "code",
   "execution_count": 34,
   "metadata": {},
   "outputs": [],
   "source": [
    "def generar_reporte(tank_pr, tank_ex, tank_h):\n",
    "    prom_com = (tank_pr + tank_ex + tank_h) / 3\n",
    "    return f\"\"\"Reporte de gasolina:\n",
    "    combustible total: {prom_com}%\n",
    "    Tanque principal: {tank_pr}%\n",
    "    Tanque Externo: {tank_ex}%\n",
    "    Tanque de hidrogeno: {tank_h}% \n",
    "    \"\"\""
   ]
  },
  {
   "cell_type": "code",
   "execution_count": 35,
   "metadata": {},
   "outputs": [
    {
     "name": "stdout",
     "output_type": "stream",
     "text": [
      "Reporte de gasolina:\n",
      "    combustible total: 78.33333333333333%\n",
      "    Tanque principal: 80%\n",
      "    Tanque Externo: 70%\n",
      "    Tanque de hidrogeno: 85% \n",
      "    \n"
     ]
    }
   ],
   "source": [
    "print(generar_reporte(80, 70, 85))"
   ]
  },
  {
   "cell_type": "code",
   "execution_count": 36,
   "metadata": {},
   "outputs": [
    {
     "data": {
      "text/plain": [
       "82.0"
      ]
     },
     "execution_count": 36,
     "metadata": {},
     "output_type": "execute_result"
    }
   ],
   "source": [
    "def prom_com(values):\n",
    "    total = sum(values)\n",
    "    number_of_items = len(values)\n",
    "    return total / number_of_items\n",
    "\n",
    "prom_com([80, 85, 81]) "
   ]
  },
  {
   "cell_type": "code",
   "execution_count": 37,
   "metadata": {},
   "outputs": [
    {
     "name": "stdout",
     "output_type": "stream",
     "text": [
      "Fuel Report:\n",
      "    Combustible total: 78.0%\n",
      "    Tanque principal: 88%\n",
      "    Tanque externo: 76%\n",
      "    tanke de hidrogeno: 70% \n",
      "    \n"
     ]
    }
   ],
   "source": [
    "def generar_reporte(tank_pr, tank_ex, tank_h):\n",
    "    return f\"\"\"Fuel Report:\n",
    "    Combustible total: {prom_com([tank_pr, tank_ex, tank_h])}%\n",
    "    Tanque principal: {tank_pr}%\n",
    "    Tanque externo: {tank_ex}%\n",
    "    tanke de hidrogeno: {tank_h}% \n",
    "    \"\"\"\n",
    "\n",
    "print(generar_reporte(88, 76, 70))"
   ]
  },
  {
   "cell_type": "markdown",
   "metadata": {},
   "source": [
    "# Trabajo con argumentos de palabra clave"
   ]
  },
  {
   "cell_type": "code",
   "execution_count": 38,
   "metadata": {},
   "outputs": [
    {
     "name": "stdout",
     "output_type": "stream",
     "text": [
      "\n",
      "    Mision hacia la Luna\n",
      "    Tiempo total de viaje: 65 minutos\n",
      "    Total de combustible sobrante : 500000 gallones\n",
      "    \n"
     ]
    }
   ],
   "source": [
    "def reporte_mision(t_pre_lan, t_vuelo, destino, tank_ex, tank_pr):\n",
    "    return f\"\"\"\n",
    "    Mision hacia la {destino}\n",
    "    Tiempo total de viaje: {t_pre_lan + t_vuelo} minutos\n",
    "    Total de combustible sobrante : {tank_ex + tank_pr} gallones\n",
    "    \"\"\"\n",
    "\n",
    "print(reporte_mision(14, 51, \"Luna\", 200000, 300000))"
   ]
  },
  {
   "cell_type": "code",
   "execution_count": 39,
   "metadata": {},
   "outputs": [
    {
     "name": "stdout",
     "output_type": "stream",
     "text": [
      "\n",
      "    Mision hacia la Luna\n",
      "    Tiempo total de viaje: 76 minutos\n",
      "    Total de combustible sobrante: 500000\n",
      "    \n"
     ]
    }
   ],
   "source": [
    "def reporte_mision(destino, *minutos, **res_com):\n",
    "    return f\"\"\"\n",
    "    Mision hacia la {destino}\n",
    "    Tiempo total de viaje: {sum(minutos)} minutos\n",
    "    Total de combustible sobrante: {sum(res_com.values())}\n",
    "    \"\"\"\n",
    "\n",
    "print(reporte_mision(\"Luna\", 10, 15, 51, main=300000, external=200000))"
   ]
  },
  {
   "cell_type": "code",
   "execution_count": 40,
   "metadata": {},
   "outputs": [
    {
     "name": "stdout",
     "output_type": "stream",
     "text": [
      "\n",
      "    Mision hacia la Luna\n",
      "    Tiempo total de viaje: 74 minutes\n",
      "    Total de combustible sobrante: 500000\n",
      "    main tank --> 300000 gallones restantes\n",
      "external tank --> 200000 gallones restantes\n",
      "\n"
     ]
    }
   ],
   "source": [
    "def mission_report(destino, *minutos, **res_com):\n",
    "    main_report = f\"\"\"\n",
    "    Mision hacia la {destino}\n",
    "    Tiempo total de viaje: {sum(minutos)} minutes\n",
    "    Total de combustible sobrante: {sum(res_com.values())}\n",
    "    \"\"\"\n",
    "    for tank_name, gallones in res_com.items():\n",
    "        main_report += f\"{tank_name} tank --> {gallones} gallones restantes\\n\"\n",
    "    return main_report\n",
    "\n",
    "print(mission_report(\"Luna\", 8, 11, 55, main=300000, external=200000))"
   ]
  }
 ],
 "metadata": {
  "interpreter": {
   "hash": "3820b527dce7748e39f80bc0bea54717b61d108f2c397c251dc6dd93b872001b"
  },
  "kernelspec": {
   "display_name": "Python 3.10.2 64-bit (windows store)",
   "language": "python",
   "name": "python3"
  },
  "language_info": {
   "codemirror_mode": {
    "name": "ipython",
    "version": 3
   },
   "file_extension": ".py",
   "mimetype": "text/x-python",
   "name": "python",
   "nbconvert_exporter": "python",
   "pygments_lexer": "ipython3",
   "version": "3.10.2"
  },
  "orig_nbformat": 4
 },
 "nbformat": 4,
 "nbformat_minor": 2
}
