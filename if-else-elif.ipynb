{
 "cells": [
  {
   "cell_type": "markdown",
   "metadata": {},
   "source": [
    "# Escribir declaraciones if, else y elif"
   ]
  },
  {
   "cell_type": "code",
   "execution_count": 3,
   "metadata": {},
   "outputs": [
    {
     "name": "stdout",
     "output_type": "stream",
     "text": [
      "¡Cuidado se acerca un asteroide a gran velocidad!\n"
     ]
    }
   ],
   "source": [
    "vAsteriode = 49\n",
    "if vAsteriode > 25:\n",
    "    print('¡Cuidado se acerca un asteroide a gran velocidad!.')\n",
    "else:\n",
    "    print('Por lo pronto, no hay nada a que pueda matarnos :3.')"
   ]
  },
  {
   "cell_type": "code",
   "execution_count": 4,
   "metadata": {},
   "outputs": [
    {
     "name": "stdout",
     "output_type": "stream",
     "text": [
      "Otro hermoso día en la tierra, claro que si :3.\n"
     ]
    }
   ],
   "source": [
    "vAsteriode = 19\n",
    "if vAsteriode > 20:\n",
    "    print('¡Mira hacia el cielo!, Estaremos fritos, literalmente.')\n",
    "elif vAsteriode == 20:\n",
    "    print('¡OH no!, no de nuevo.')\n",
    "else:\n",
    "    print('Otro hermoso día en la tierra, claro que si :3.')"
   ]
  },
  {
   "cell_type": "code",
   "execution_count": 17,
   "metadata": {},
   "outputs": [
    {
     "name": "stdout",
     "output_type": "stream",
     "text": [
      "Sigue con tus actividades diarias pequeño saltamontes\n"
     ]
    }
   ],
   "source": [
    "vAsteriode = 15\n",
    "tAsteroide = 10\n",
    "if vAsteriode > 25 and tAsteroide > 25:\n",
    "    print('¡Tus ultimas palabras!')\n",
    "elif vAsteriode >= 20:\n",
    "    print('¡Espera!, ¿que es eso?')\n",
    "elif tAsteroide < 25:\n",
    "    print('Sigue con tus actividades diarias pequeño saltamontes')\n",
    "else:\n",
    "    print('Mi bro que tengas un excelente día, aqui todo esta bien.')"
   ]
  }
 ],
 "metadata": {
  "interpreter": {
   "hash": "3820b527dce7748e39f80bc0bea54717b61d108f2c397c251dc6dd93b872001b"
  },
  "kernelspec": {
   "display_name": "Python 3.10.2 64-bit (windows store)",
   "language": "python",
   "name": "python3"
  },
  "language_info": {
   "codemirror_mode": {
    "name": "ipython",
    "version": 3
   },
   "file_extension": ".py",
   "mimetype": "text/x-python",
   "name": "python",
   "nbconvert_exporter": "python",
   "pygments_lexer": "ipython3",
   "version": "3.10.2"
  },
  "orig_nbformat": 4
 },
 "nbformat": 4,
 "nbformat_minor": 2
}
